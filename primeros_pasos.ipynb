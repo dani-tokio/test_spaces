{
 "cells": [
  {
   "cell_type": "markdown",
   "metadata": {},
   "source": [
    "## Primeros Pasos en Python\n",
    "\n",
    "Este es tu primer código en Python. Ejecuta la celda de abajo para ver el mensaje **¡Hola, mundo!**"
   ]
  },
  {
   "cell_type": "code",
   "execution_count": null,
   "metadata": {},
   "outputs": [],
   "source": [
    "# Hola Mundo en Python\n",
    "print(\"¡Hola, mundo!\")"
   ]
  },
  {
   "cell_type": "markdown",
   "metadata": {},
   "source": [
    "## Variables y Tipos de Datos\n",
    "\n",
    "En Python puedes guardar datos en variables. A continuación, un ejemplo de asignación de diferentes tipos de datos:"
   ]
  },
  {
   "cell_type": "code",
   "execution_count": null,
   "metadata": {},
   "outputs": [],
   "source": [
    "# Asignación de variables\n",
    "nombre = \"Ana\"\n",
    "edad = 25\n",
    "altura = 1.68\n",
    "estudiante = True\n",
    "\n",
    "# Imprimir valores\n",
    "print(\"Nombre:\", nombre)\n",
    "print(\"Edad:\", edad)\n",
    "print(\"Altura:\", altura)\n",
    "print(\"¿Es estudiante?\", estudiante)"
   ]
  },
  {
   "cell_type": "markdown",
   "metadata": {},
   "source": [
    "## Operadores\n",
    "\n",
    "Python permite realizar operaciones aritméticas y lógicas. Por ejemplo:"
   ]
  },
  {
   "cell_type": "code",
   "execution_count": null,
   "metadata": {},
   "outputs": [],
   "source": [
    "# Operaciones aritméticas\n",
    "a = 10\n",
    "b = 3\n",
    "\n",
    "print(\"Suma:\", a + b)\n",
    "print(\"Resta:\", a - b)\n",
    "print(\"Multiplicación:\", a * b)\n",
    "print(\"División:\", a / b)\n",
    "print(\"División entera:\", a // b)\n",
    "print(\"Módulo:\", a % b)\n",
    "print(\"Potencia:\", a ** b)"
   ]
  },
  {
   "cell_type": "markdown",
   "metadata": {},
   "source": [
    "## Estructuras de Control\n",
    "\n",
    "### Condicionales\n",
    "\n",
    "Las sentencias `if`, `elif` y `else` te permiten tomar decisiones en tu código. Observa el siguiente ejemplo:"
   ]
  },
  {
   "cell_type": "code",
   "execution_count": null,
   "metadata": {},
   "outputs": [],
   "source": [
    "# Ejemplo de condicional\n",
    "numero = 7\n",
    "\n",
    "if numero > 0:\n",
    "    print(\"El número es positivo.\")\n",
    "elif numero < 0:\n",
    "    print(\"El número es negativo.\")\n",
    "else:\n",
    "    print(\"El número es cero.\")"
   ]
  },
  {
   "cell_type": "markdown",
   "metadata": {},
   "source": [
    "### Bucles\n",
    "\n",
    "#### Bucle for\n",
    "\n",
    "Itera sobre elementos de una lista:"
   ]
  },
  {
   "cell_type": "code",
   "execution_count": null,
   "metadata": {},
   "outputs": [],
   "source": [
    "# Bucle for para iterar en una lista\n",
    "frutas = [\"manzana\", \"banana\", \"cereza\"]\n",
    "\n",
    "for fruta in frutas:\n",
    "    print(\"Me gusta la\", fruta)"
   ]
  },
  {
   "cell_type": "markdown",
   "metadata": {},
   "source": [
    "#### Bucle while\n",
    "\n",
    "Ejemplo de bucle while:"
   ]
  },
  {
   "cell_type": "code",
   "execution_count": null,
   "metadata": {},
   "outputs": [],
   "source": [
    "# Bucle while que cuenta del 1 al 5\n",
    "contador = 1\n",
    "while contador <= 5:\n",
    "    print(\"Contador:\", contador)\n",
    "    contador += 1  # Incrementa el contador en 1"
   ]
  },
  {
   "cell_type": "markdown",
   "metadata": {},
   "source": [
    "## Funciones\n",
    "\n",
    "Las funciones permiten encapsular bloques de código para reutilizarlos. Aquí un ejemplo de función que saluda a una persona:"
   ]
  },
  {
   "cell_type": "code",
   "execution_count": null,
   "metadata": {},
   "outputs": [],
   "source": [
    "# Definir una función que saluda a una persona\n",
    "def saludar(nombre):\n",
    "    \"\"\"Esta función imprime un saludo personalizado.\"\"\"\n",
    "    mensaje = f\"Hola, {nombre}! Bienvenido a Python.\"\n",
    "    return mensaje\n",
    "\n",
    "# Llamar a la función\n",
    "resultado = saludar(\"Carlos\")\n",
    "print(resultado)"
   ]
  },
  {
   "cell_type": "markdown",
   "metadata": {},
   "source": [
    "## Estructuras de Datos Básicas\n",
    "\n",
    "Python incluye varias estructuras de datos como listas, diccionarios, tuplas y conjuntos. A continuación, se muestran algunos ejemplos:"
   ]
  },
  {
   "cell_type": "code",
   "execution_count": null,
   "metadata": {},
   "outputs": [],
   "source": [
    "# Lista\n",
    "numeros = [1, 2, 3, 4, 5]\n",
    "print(\"Lista de números:\", numeros)\n",
    "\n",
    "# Diccionario\n",
    "persona = {\n",
    "    \"nombre\": \"Laura\",\n",
    "    \"edad\": 28,\n",
    "    \"ciudad\": \"Madrid\"\n",
    "}\n",
    "print(\"Diccionario persona:\", persona)"
   ]
  },
  {
   "cell_type": "markdown",
   "metadata": {},
   "source": [
    "## Módulos y Librerías\n",
    "\n",
    "Puedes ampliar las capacidades de Python importando módulos. Por ejemplo, importamos el módulo `math` para calcular la raíz cuadrada:"
   ]
  },
  {
   "cell_type": "code",
   "execution_count": null,
   "metadata": {},
   "outputs": [],
   "source": [
    "import math\n",
    "\n",
    "# Usar la función sqrt (raíz cuadrada) del módulo math\n",
    "numero = 16\n",
    "raiz = math.sqrt(numero)\n",
    "print(\"La raíz cuadrada de\", numero, \"es\", raiz)"
   ]
  },
  {
   "cell_type": "markdown",
   "metadata": {},
   "source": [
    "## Ejercicios Prácticos\n",
    "\n",
    "### Ejercicio 1: Calculadora Simple\n",
    "\n",
    "Crea una función llamada `calculadora` que reciba dos números y una operación (`'+'`, `'-'`, `'*'`, `'/'`) y retorne el resultado de la operación.\n",
    "\n",
    "*Pista:* Usa estructuras condicionales (`if/elif/else`) para determinar qué operación realizar."
   ]
  },
  {
   "cell_type": "markdown",
   "metadata": {},
   "source": [
    "### ¡Practica y diviértete programando!\n",
    "\n",
    "---\n",
    "\n",
    "Este notebook es un recurso para aprender los conceptos básicos de Python. ¡No dudes en experimentar y modificar el código para aprender más!"
   ]
  }
 ],
 "metadata": {
  "kernelspec": {
   "display_name": "Python 3",
   "language": "python",
   "name": "python3"
  },
  "language_info": {
   "file_extension": ".py",
   "mimetype": "text/x-python",
   "name": "python",
   "version": "3.x"
  }
 },
 "nbformat": 4,
 "nbformat_minor": 5
}
